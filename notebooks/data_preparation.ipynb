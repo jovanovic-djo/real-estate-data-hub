{
 "cells": [
  {
   "cell_type": "code",
   "execution_count": 3,
   "metadata": {},
   "outputs": [],
   "source": [
    "import pandas as pd"
   ]
  },
  {
   "cell_type": "code",
   "execution_count": 6,
   "metadata": {},
   "outputs": [],
   "source": [
    "df = pd.read_csv('..\\\\data\\\\scraped\\\\apartmentsdata.csv')\n",
    "\n",
    "df['title'] = df['title'].str.replace(r'\\*\\*', '', regex=True)\n",
    "df = df.loc[:, ~df.columns.str.contains('^Unnamed')]\n",
    "df['floor'] = df['floor'].replace('p', -99)\n",
    "\n",
    "df.to_csv('..\\\\data\\\\scraped\\\\apartmentsdata.csv', index=False)\n",
    "\n"
   ]
  },
  {
   "cell_type": "code",
   "execution_count": null,
   "metadata": {},
   "outputs": [],
   "source": []
  }
 ],
 "metadata": {
  "kernelspec": {
   "display_name": "venv",
   "language": "python",
   "name": "python3"
  },
  "language_info": {
   "codemirror_mode": {
    "name": "ipython",
    "version": 3
   },
   "file_extension": ".py",
   "mimetype": "text/x-python",
   "name": "python",
   "nbconvert_exporter": "python",
   "pygments_lexer": "ipython3",
   "version": "3.12.0"
  }
 },
 "nbformat": 4,
 "nbformat_minor": 2
}
