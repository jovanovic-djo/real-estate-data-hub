{
 "cells": [
  {
   "cell_type": "code",
   "execution_count": 2,
   "metadata": {},
   "outputs": [],
   "source": [
    "import pandas as pd"
   ]
  },
  {
   "cell_type": "code",
   "execution_count": 3,
   "metadata": {},
   "outputs": [
    {
     "name": "stdout",
     "output_type": "stream",
     "text": [
      "\n",
      "Missing Values:\n",
      " area              0\n",
      "city              0\n",
      "floor           118\n",
      "location          0\n",
      "price             0\n",
      "rooms             0\n",
      "source            0\n",
      "square_price      0\n",
      "title             0\n",
      "dtype: int64\n"
     ]
    }
   ],
   "source": [
    "df = pd.read_csv('..\\\\data\\\\scraped\\\\apartmentsdata.csv')\n",
    "\n",
    "df['title'] = df['title'].str.replace(r'\\*\\*', '', regex=True)\n",
    "df = df.loc[:, ~df.columns.str.contains('^Unnamed')]\n",
    "df['floor'] = df['floor'].replace('p', -3)\n",
    "\n",
    "print(\"\\nMissing Values:\\n\", df.isnull().sum())"
   ]
  },
  {
   "cell_type": "code",
   "execution_count": 4,
   "metadata": {},
   "outputs": [],
   "source": [
    "df.loc[:, 'floor'] = df['floor'].fillna(df['floor'].mode()[0])"
   ]
  },
  {
   "cell_type": "code",
   "execution_count": 5,
   "metadata": {},
   "outputs": [
    {
     "data": {
      "text/html": [
       "<div>\n",
       "<style scoped>\n",
       "    .dataframe tbody tr th:only-of-type {\n",
       "        vertical-align: middle;\n",
       "    }\n",
       "\n",
       "    .dataframe tbody tr th {\n",
       "        vertical-align: top;\n",
       "    }\n",
       "\n",
       "    .dataframe thead th {\n",
       "        text-align: right;\n",
       "    }\n",
       "</style>\n",
       "<table border=\"1\" class=\"dataframe\">\n",
       "  <thead>\n",
       "    <tr style=\"text-align: right;\">\n",
       "      <th></th>\n",
       "      <th>area</th>\n",
       "      <th>city</th>\n",
       "      <th>floor</th>\n",
       "      <th>location</th>\n",
       "      <th>price</th>\n",
       "      <th>rooms</th>\n",
       "      <th>source</th>\n",
       "      <th>square_price</th>\n",
       "      <th>title</th>\n",
       "      <th>municipality</th>\n",
       "      <th>borough</th>\n",
       "    </tr>\n",
       "  </thead>\n",
       "  <tbody>\n",
       "    <tr>\n",
       "      <th>0</th>\n",
       "      <td>76</td>\n",
       "      <td>Beograd</td>\n",
       "      <td>3</td>\n",
       "      <td>Opština Vračar , Hram svetog Save , Svetog Save</td>\n",
       "      <td>290000</td>\n",
       "      <td>2.0</td>\n",
       "      <td>halooglasi</td>\n",
       "      <td>3816</td>\n",
       "      <td>Plato Hrama Svetog Save, Vračar, 76m2</td>\n",
       "      <td>Vračar</td>\n",
       "      <td>Hram svetog Save</td>\n",
       "    </tr>\n",
       "    <tr>\n",
       "      <th>1</th>\n",
       "      <td>41</td>\n",
       "      <td>Vrnjačka Banja</td>\n",
       "      <td>2</td>\n",
       "      <td>Gradska lokacija , Raj , Kosovska br.1</td>\n",
       "      <td>82000</td>\n",
       "      <td>2.0</td>\n",
       "      <td>halooglasi</td>\n",
       "      <td>2000</td>\n",
       "      <td>Lux stan Akva Park Raj</td>\n",
       "      <td>Gradska lokacija</td>\n",
       "      <td>Raj</td>\n",
       "    </tr>\n",
       "    <tr>\n",
       "      <th>2</th>\n",
       "      <td>37</td>\n",
       "      <td>Sokobanja</td>\n",
       "      <td>1</td>\n",
       "      <td>Gradska lokacija , Banjica , Profesora Dragol...</td>\n",
       "      <td>60605</td>\n",
       "      <td>2.0</td>\n",
       "      <td>halooglasi</td>\n",
       "      <td>1650</td>\n",
       "      <td>Direktna prodaja stana u Sokobanji</td>\n",
       "      <td>Gradska lokacija</td>\n",
       "      <td>Banjica</td>\n",
       "    </tr>\n",
       "    <tr>\n",
       "      <th>3</th>\n",
       "      <td>34</td>\n",
       "      <td>Sokobanja</td>\n",
       "      <td>3</td>\n",
       "      <td>Gradska lokacija , Banjica , Profesora Dragol...</td>\n",
       "      <td>59488</td>\n",
       "      <td>1.5</td>\n",
       "      <td>halooglasi</td>\n",
       "      <td>1760</td>\n",
       "      <td>Direktna prodaja stana Sokobanja</td>\n",
       "      <td>Gradska lokacija</td>\n",
       "      <td>Banjica</td>\n",
       "    </tr>\n",
       "    <tr>\n",
       "      <th>4</th>\n",
       "      <td>55</td>\n",
       "      <td>Beograd</td>\n",
       "      <td>2</td>\n",
       "      <td>Opština Zemun , Altina , Ugrinovački put 8. deo</td>\n",
       "      <td>104500</td>\n",
       "      <td>2.0</td>\n",
       "      <td>halooglasi</td>\n",
       "      <td>1900</td>\n",
       "      <td>Zemun, Altina, 2.0</td>\n",
       "      <td>Zemun</td>\n",
       "      <td>Altina</td>\n",
       "    </tr>\n",
       "  </tbody>\n",
       "</table>\n",
       "</div>"
      ],
      "text/plain": [
       "   area            city floor  \\\n",
       "0    76         Beograd     3   \n",
       "1    41  Vrnjačka Banja     2   \n",
       "2    37       Sokobanja     1   \n",
       "3    34       Sokobanja     3   \n",
       "4    55         Beograd     2   \n",
       "\n",
       "                                            location   price  rooms  \\\n",
       "0   Opština Vračar , Hram svetog Save , Svetog Save   290000    2.0   \n",
       "1            Gradska lokacija , Raj , Kosovska br.1    82000    2.0   \n",
       "2   Gradska lokacija , Banjica , Profesora Dragol...   60605    2.0   \n",
       "3   Gradska lokacija , Banjica , Profesora Dragol...   59488    1.5   \n",
       "4   Opština Zemun , Altina , Ugrinovački put 8. deo   104500    2.0   \n",
       "\n",
       "       source  square_price                                  title  \\\n",
       "0  halooglasi          3816  Plato Hrama Svetog Save, Vračar, 76m2   \n",
       "1  halooglasi          2000                 Lux stan Akva Park Raj   \n",
       "2  halooglasi          1650     Direktna prodaja stana u Sokobanji   \n",
       "3  halooglasi          1760       Direktna prodaja stana Sokobanja   \n",
       "4  halooglasi          1900                     Zemun, Altina, 2.0   \n",
       "\n",
       "       municipality           borough  \n",
       "0            Vračar  Hram svetog Save  \n",
       "1  Gradska lokacija               Raj  \n",
       "2  Gradska lokacija           Banjica  \n",
       "3  Gradska lokacija           Banjica  \n",
       "4             Zemun            Altina  "
      ]
     },
     "execution_count": 5,
     "metadata": {},
     "output_type": "execute_result"
    }
   ],
   "source": [
    "df['municipality'] = df['location'].str.split(',').str[0].str.strip()\n",
    "df['municipality'] = df['municipality'].str.replace('Opština ', '', case=False).str.strip()\n",
    "\n",
    "df['borough'] = df['location'].str.split(',').str[1].str.strip()\n",
    "df.head()"
   ]
  },
  {
   "cell_type": "code",
   "execution_count": 6,
   "metadata": {},
   "outputs": [],
   "source": [
    "df.to_csv('..\\\\data\\\\cleaned\\\\data.csv', index=False)"
   ]
  },
  {
   "cell_type": "code",
   "execution_count": null,
   "metadata": {},
   "outputs": [],
   "source": []
  }
 ],
 "metadata": {
  "kernelspec": {
   "display_name": "venv (3.12.0)",
   "language": "python",
   "name": "python3"
  },
  "language_info": {
   "codemirror_mode": {
    "name": "ipython",
    "version": 3
   },
   "file_extension": ".py",
   "mimetype": "text/x-python",
   "name": "python",
   "nbconvert_exporter": "python",
   "pygments_lexer": "ipython3",
   "version": "3.12.0"
  }
 },
 "nbformat": 4,
 "nbformat_minor": 2
}
