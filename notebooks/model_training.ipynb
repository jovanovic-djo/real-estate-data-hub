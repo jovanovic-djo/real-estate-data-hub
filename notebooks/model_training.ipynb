{
 "cells": [
  {
   "cell_type": "code",
   "execution_count": 37,
   "metadata": {},
   "outputs": [],
   "source": [
    "import pandas as pd\n",
    "import numpy as np\n",
    "from sklearn.model_selection import train_test_split, cross_val_score\n",
    "from sklearn.preprocessing import StandardScaler, OneHotEncoder\n",
    "from sklearn.compose import ColumnTransformer\n",
    "from sklearn.pipeline import Pipeline\n",
    "from sklearn.linear_model import LinearRegression\n",
    "from sklearn.metrics import root_mean_squared_error, r2_score, mean_absolute_error, explained_variance_score, mean_absolute_percentage_error\n",
    "import matplotlib.pyplot as plt\n",
    "import seaborn as sns\n",
    "import time\n",
    "import pickle\n",
    "from joblib import dump\n",
    "\n",
    "\n",
    "\n",
    "from sklearn.preprocessing import OneHotEncoder\n",
    "from sklearn.ensemble import RandomForestRegressor\n"
   ]
  },
  {
   "cell_type": "code",
   "execution_count": 38,
   "metadata": {},
   "outputs": [
    {
     "name": "stdout",
     "output_type": "stream",
     "text": [
      "Training set shape: (9363, 6)\n",
      "Test set shape: (2341, 6)\n"
     ]
    }
   ],
   "source": [
    "df = pd.read_csv('..\\\\data\\\\cleaned\\\\data.csv')\n",
    "\n",
    "min_count = 10\n",
    "city_counts = df['city'].value_counts()\n",
    "df['city'] = df['city'].apply(lambda x: 'Other' if city_counts[x] < min_count else x)\n",
    "\n",
    "X = df[['area', 'rooms', 'floor', 'municipality', 'borough', 'city']]\n",
    "y = df['price']\n",
    "\n",
    "X_train, X_test, y_train, y_test = train_test_split(\n",
    "    X, y, test_size=0.2, random_state=42\n",
    ")\n",
    "\n",
    "print(\"Training set shape:\", X_train.shape)\n",
    "print(\"Test set shape:\", X_test.shape)\n"
   ]
  },
  {
   "cell_type": "code",
   "execution_count": 39,
   "metadata": {},
   "outputs": [],
   "source": [
    "numeric_features = ['area', 'rooms', 'floor']\n",
    "categorical_features = ['city', 'borough', 'municipality']\n",
    "\n",
    "numeric_transformer = StandardScaler()\n",
    "categorical_transformer = OneHotEncoder(drop='first', sparse_output=False, handle_unknown='ignore')\n",
    "\n",
    "preprocessor = ColumnTransformer(\n",
    "    transformers=[\n",
    "        ('num', numeric_transformer, numeric_features),\n",
    "        ('cat', categorical_transformer, categorical_features)\n",
    "    ])"
   ]
  },
  {
   "cell_type": "markdown",
   "metadata": {},
   "source": [
    "## Linear regression"
   ]
  },
  {
   "cell_type": "code",
   "execution_count": 40,
   "metadata": {},
   "outputs": [],
   "source": [
    "model = Pipeline([\n",
    "    ('preprocessor', preprocessor),\n",
    "    ('regressor', LinearRegression())\n",
    "])\n",
    "\n",
    "start_time = time.time()\n",
    "\n",
    "model.fit(X_train, y_train)\n",
    "\n",
    "training_time = time.time() - start_time"
   ]
  },
  {
   "cell_type": "code",
   "execution_count": 41,
   "metadata": {},
   "outputs": [
    {
     "name": "stdout",
     "output_type": "stream",
     "text": [
      "\n",
      "Model Performance Metrics:\n",
      "R2 Score (Train): 0.77\n",
      "R2 Score (Test): 0.70\n",
      "RMSE (Train): 270.61\n",
      "RMSE (Test): 245.32\n",
      "MAE (Train): 34,820.65\n",
      "MAE (Test): 37,574.57\n",
      "Explained Variance (Train): 0.77\n",
      "Explained Variance (Test): 0.70\n",
      "MAPE (Train): 23.38\n",
      "MAPE (Test): 28.67\n",
      "Mean Relative Error (Train): 23.38\n",
      "Mean Relative Error (Test): 28.67\n"
     ]
    },
    {
     "name": "stderr",
     "output_type": "stream",
     "text": [
      "c:\\Users\\gatz0\\Desktop\\Master\\Master rad\\real-estate-data-hub\\venv\\Lib\\site-packages\\sklearn\\preprocessing\\_encoders.py:246: UserWarning: Found unknown categories in columns [1, 2] during transform. These unknown categories will be encoded as all zeros\n",
      "  warnings.warn(\n"
     ]
    }
   ],
   "source": [
    "\n",
    "\n",
    "prediction_start_time = time.time()\n",
    "y_pred_train = model.predict(X_train)\n",
    "y_pred_test = model.predict(X_test)\n",
    "prediction_time = time.time() - prediction_start_time\n",
    "\n",
    "metrics = {\n",
    "    'R2 Score (Train)': r2_score(y_train, y_pred_train),\n",
    "    'R2 Score (Test)': r2_score(y_test, y_pred_test),\n",
    "    \n",
    "    'RMSE (Train)': np.sqrt(root_mean_squared_error(y_train, y_pred_train)),\n",
    "    'RMSE (Test)': np.sqrt(root_mean_squared_error(y_test, y_pred_test)),\n",
    "    \n",
    "    'MAE (Train)': mean_absolute_error(y_train, y_pred_train),\n",
    "    'MAE (Test)': mean_absolute_error(y_test, y_pred_test),\n",
    "    \n",
    "    'Explained Variance (Train)': explained_variance_score(y_train, y_pred_train),\n",
    "    'Explained Variance (Test)': explained_variance_score(y_test, y_pred_test),\n",
    "    \n",
    "    'MAPE (Train)': mean_absolute_percentage_error(y_train, y_pred_train) * 100,\n",
    "    'MAPE (Test)': mean_absolute_percentage_error(y_test, y_pred_test) * 100,\n",
    "    \n",
    "    'Mean Relative Error (Train)': np.mean(np.abs((y_train - y_pred_train) / y_train)) * 100,\n",
    "    'Mean Relative Error (Test)': np.mean(np.abs((y_test - y_pred_test) / y_test)) * 100,\n",
    "}\n",
    "\n",
    "timing_metrics = {\n",
    "    'Training Time (seconds)': training_time,\n",
    "    'Prediction Time (seconds)': prediction_time,\n",
    "    'Average Prediction Time per Sample (ms)': (prediction_time / len(X_test)) * 1000\n",
    "}\n",
    "\n",
    "print(\"\\nModel Performance Metrics:\")\n",
    "for metric, value in metrics.items():\n",
    "    print(f\"{metric}: {value:,.2f}\")\n"
   ]
  },
  {
   "cell_type": "code",
   "execution_count": 42,
   "metadata": {},
   "outputs": [
    {
     "name": "stderr",
     "output_type": "stream",
     "text": [
      "c:\\Users\\gatz0\\Desktop\\Master\\Master rad\\real-estate-data-hub\\venv\\Lib\\site-packages\\sklearn\\preprocessing\\_encoders.py:246: UserWarning: Found unknown categories in columns [1, 2] during transform. These unknown categories will be encoded as all zeros\n",
      "  warnings.warn(\n",
      "c:\\Users\\gatz0\\Desktop\\Master\\Master rad\\real-estate-data-hub\\venv\\Lib\\site-packages\\sklearn\\preprocessing\\_encoders.py:246: UserWarning: Found unknown categories in columns [1, 2] during transform. These unknown categories will be encoded as all zeros\n",
      "  warnings.warn(\n",
      "c:\\Users\\gatz0\\Desktop\\Master\\Master rad\\real-estate-data-hub\\venv\\Lib\\site-packages\\sklearn\\preprocessing\\_encoders.py:246: UserWarning: Found unknown categories in columns [1, 2] during transform. These unknown categories will be encoded as all zeros\n",
      "  warnings.warn(\n",
      "c:\\Users\\gatz0\\Desktop\\Master\\Master rad\\real-estate-data-hub\\venv\\Lib\\site-packages\\sklearn\\preprocessing\\_encoders.py:246: UserWarning: Found unknown categories in columns [1, 2] during transform. These unknown categories will be encoded as all zeros\n",
      "  warnings.warn(\n",
      "c:\\Users\\gatz0\\Desktop\\Master\\Master rad\\real-estate-data-hub\\venv\\Lib\\site-packages\\sklearn\\preprocessing\\_encoders.py:246: UserWarning: Found unknown categories in columns [1, 2] during transform. These unknown categories will be encoded as all zeros\n",
      "  warnings.warn(\n"
     ]
    }
   ],
   "source": [
    "cv_scores = cross_val_score(model, X_train, y_train, cv=5, scoring='r2')\n",
    "cv_metrics = {\n",
    "    'Cross-Validation Mean R2': cv_scores.mean(),\n",
    "    'Cross-Validation Std R2': cv_scores.std()\n",
    "}"
   ]
  },
  {
   "cell_type": "code",
   "execution_count": 43,
   "metadata": {},
   "outputs": [
    {
     "name": "stdout",
     "output_type": "stream",
     "text": [
      "\n",
      "==================================================\n",
      "MODEL PERFORMANCE METRICS\n",
      "==================================================\n",
      "\n",
      "Basic Metrics:\n",
      "\n",
      "R2 Score:\n",
      "  Train: 0.770\n",
      "  Test:  0.696\n",
      "\n",
      "RMSE:\n",
      "  Train: 270.610\n",
      "  Test:  245.315\n",
      "\n",
      "MAE:\n",
      "  Train: 34,820.651\n",
      "  Test:  37,574.574\n",
      "\n",
      "Advanced Metrics:\n",
      "Explained Variance (Train): 0.770\n",
      "Explained Variance (Test):  0.696\n",
      "MAPE (Train): 23.38%\n",
      "MAPE (Test):  28.67%\n",
      "Mean Relative Error (Train): 23.38%\n",
      "Mean Relative Error (Test):  28.67%\n",
      "\n",
      "Cross-Validation Metrics:\n",
      "Mean R2: 0.709 (±0.043)\n",
      "\n",
      "Timing Metrics:\n",
      "Training Time (seconds): 0.6286\n",
      "Prediction Time (seconds): 0.0879\n",
      "Average Prediction Time per Sample (ms): 0.0376\n"
     ]
    }
   ],
   "source": [
    "print(\"\\n\" + \"=\"*50)\n",
    "print(\"MODEL PERFORMANCE METRICS\")\n",
    "print(\"=\"*50)\n",
    "\n",
    "print(\"\\nBasic Metrics:\")\n",
    "for metric in ['R2 Score', 'RMSE', 'MAE']:\n",
    "    print(f\"\\n{metric}:\")\n",
    "    print(f\"  Train: {metrics[f'{metric} (Train)']:,.3f}\")\n",
    "    print(f\"  Test:  {metrics[f'{metric} (Test)']:,.3f}\")\n",
    "\n",
    "print(\"\\nAdvanced Metrics:\")\n",
    "print(f\"Explained Variance (Train): {metrics['Explained Variance (Train)']:,.3f}\")\n",
    "print(f\"Explained Variance (Test):  {metrics['Explained Variance (Test)']:,.3f}\")\n",
    "print(f\"MAPE (Train): {metrics['MAPE (Train)']:,.2f}%\")\n",
    "print(f\"MAPE (Test):  {metrics['MAPE (Test)']:,.2f}%\")\n",
    "print(f\"Mean Relative Error (Train): {metrics['Mean Relative Error (Train)']:,.2f}%\")\n",
    "print(f\"Mean Relative Error (Test):  {metrics['Mean Relative Error (Test)']:,.2f}%\")\n",
    "\n",
    "print(\"\\nCross-Validation Metrics:\")\n",
    "print(f\"Mean R2: {cv_metrics['Cross-Validation Mean R2']:,.3f} (±{cv_metrics['Cross-Validation Std R2']:,.3f})\")\n",
    "\n",
    "print(\"\\nTiming Metrics:\")\n",
    "for metric, value in timing_metrics.items():\n",
    "    print(f\"{metric}: {value:,.4f}\")"
   ]
  },
  {
   "cell_type": "code",
   "execution_count": 44,
   "metadata": {},
   "outputs": [
    {
     "name": "stdout",
     "output_type": "stream",
     "text": [
      "\n",
      "Residual Statistics:\n",
      "\n",
      "Training Set:\n",
      "Mean Residual: 0.00\n",
      "Residual Std: 73,233.63\n",
      "\n",
      "Test Set:\n",
      "Mean Residual: -1,929.54\n",
      "Residual Std: 60,161.54\n"
     ]
    }
   ],
   "source": [
    "residuals_train = y_train - y_pred_train\n",
    "residuals_test = y_test - y_pred_test\n",
    "\n",
    "print(\"\\nResidual Statistics:\")\n",
    "print(\"\\nTraining Set:\")\n",
    "print(f\"Mean Residual: {residuals_train.mean():,.2f}\")\n",
    "print(f\"Residual Std: {residuals_train.std():,.2f}\")\n",
    "print(\"\\nTest Set:\")\n",
    "print(f\"Mean Residual: {residuals_test.mean():,.2f}\")\n",
    "print(f\"Residual Std: {residuals_test.std():,.2f}\")"
   ]
  },
  {
   "cell_type": "code",
   "execution_count": 45,
   "metadata": {},
   "outputs": [
    {
     "data": {
      "image/png": "[encoded data removed]",
      "text/plain": [
       "<Figure size 640x480 with 1 Axes>"
      ]
     },
     "metadata": {},
     "output_type": "display_data"
    }
   ],
   "source": [
    "plt.subplot(122)\n",
    "plt.scatter(y_pred_test, residuals_test, alpha=0.5)\n",
    "plt.xlabel('Predicted Values')\n",
    "plt.ylabel('Residuals')\n",
    "plt.title('Residual Plot (Test Set)')\n",
    "plt.axhline(y=0, color='r', linestyle='-')\n",
    "\n",
    "plt.tight_layout()\n",
    "plt.show()"
   ]
  },
  {
   "cell_type": "code",
   "execution_count": 46,
   "metadata": {},
   "outputs": [
    {
     "data": {
      "image/png": "[encoded data removed]",
      "text/plain": [
       "<Figure size 1000x600 with 1 Axes>"
      ]
     },
     "metadata": {},
     "output_type": "display_data"
    }
   ],
   "source": [
    "plt.figure(figsize=(10, 6))\n",
    "plt.scatter(y_test, y_pred_test, alpha=0.5)\n",
    "plt.plot([y_test.min(), y_test.max()], [y_test.min(), y_test.max()], 'r--', lw=2)\n",
    "plt.xlabel('Actual Price')\n",
    "plt.ylabel('Predicted Price')\n",
    "plt.title('Actual vs Predicted House Prices')\n",
    "plt.tight_layout()\n",
    "plt.show()\n"
   ]
  },
  {
   "cell_type": "code",
   "execution_count": 47,
   "metadata": {},
   "outputs": [
    {
     "data": {
      "image/png": "[encoded data removed]",
      "text/plain": [
       "<Figure size 1000x600 with 1 Axes>"
      ]
     },
     "metadata": {},
     "output_type": "display_data"
    }
   ],
   "source": [
    "errors = y_test - y_pred_test\n",
    "plt.figure(figsize=(10, 6))\n",
    "plt.hist(errors, bins=50)\n",
    "plt.xlabel('Prediction Error')\n",
    "plt.ylabel('Count')\n",
    "plt.title('Distribution of Prediction Errors')\n",
    "plt.tight_layout()\n",
    "plt.show()"
   ]
  },
  {
   "cell_type": "code",
   "execution_count": null,
   "metadata": {},
   "outputs": [
    {
     "name": "stdout",
     "output_type": "stream",
     "text": [
      "\n",
      "Percentage Error Statistics:\n",
      "Mean percentage error: 33.35%\n",
      "Median percentage error: 22.97%\n",
      "90th percentile of percentage error: 69.01%\n"
     ]
    }
   ],
   "source": [
    "percentage_errors = (abs(y_test - y_pred_test) / y_test) * 100\n",
    "print(\"\\nPercentage Error Statistics:\")\n",
    "print(f\"Mean percentage error: {percentage_errors.mean():.2f}%\")\n",
    "print(f\"Median percentage error: {percentage_errors.median():.2f}%\")\n",
    "print(f\"90th percentile of percentage error: {np.percentile(percentage_errors, 90):.2f}%\")"
   ]
  },
  {
   "cell_type": "code",
   "execution_count": null,
   "metadata": {},
   "outputs": [],
   "source": [
    "dump(model, '..\\\\models\\\\linear_regression_model.joblib')\n",
    "\n",
    "with open('..\\\\models\\\\linear_regression_model.pkl', 'wb') as file:\n",
    "    pickle.dump(model, file)"
   ]
  },
  {
   "cell_type": "markdown",
   "metadata": {},
   "source": [
    "## Random Forest"
   ]
  },
  {
   "cell_type": "code",
   "execution_count": null,
   "metadata": {},
   "outputs": [
    {
     "data": {
      "text/html": [
       "<div>\n",
       "<style scoped>\n",
       "    .dataframe tbody tr th:only-of-type {\n",
       "        vertical-align: middle;\n",
       "    }\n",
       "\n",
       "    .dataframe tbody tr th {\n",
       "        vertical-align: top;\n",
       "    }\n",
       "\n",
       "    .dataframe thead th {\n",
       "        text-align: right;\n",
       "    }\n",
       "</style>\n",
       "<table border=\"1\" class=\"dataframe\">\n",
       "  <thead>\n",
       "    <tr style=\"text-align: right;\">\n",
       "      <th></th>\n",
       "      <th>area</th>\n",
       "      <th>city</th>\n",
       "      <th>floor</th>\n",
       "      <th>location</th>\n",
       "      <th>price</th>\n",
       "      <th>rooms</th>\n",
       "      <th>source</th>\n",
       "      <th>square_price</th>\n",
       "      <th>title</th>\n",
       "      <th>municipality</th>\n",
       "      <th>borough</th>\n",
       "    </tr>\n",
       "  </thead>\n",
       "  <tbody>\n",
       "    <tr>\n",
       "      <th>0</th>\n",
       "      <td>76</td>\n",
       "      <td>Beograd</td>\n",
       "      <td>3.0</td>\n",
       "      <td>Opština Vračar , Hram svetog Save , Svetog Save</td>\n",
       "      <td>290000</td>\n",
       "      <td>2.0</td>\n",
       "      <td>halooglasi</td>\n",
       "      <td>3816</td>\n",
       "      <td>Plato Hrama Svetog Save, Vračar, 76m2</td>\n",
       "      <td>Vračar</td>\n",
       "      <td>Hram svetog Save</td>\n",
       "    </tr>\n",
       "    <tr>\n",
       "      <th>1</th>\n",
       "      <td>41</td>\n",
       "      <td>Vrnjačka Banja</td>\n",
       "      <td>2.0</td>\n",
       "      <td>Gradska lokacija , Raj , Kosovska br.1</td>\n",
       "      <td>82000</td>\n",
       "      <td>2.0</td>\n",
       "      <td>halooglasi</td>\n",
       "      <td>2000</td>\n",
       "      <td>Lux stan Akva Park Raj</td>\n",
       "      <td>Gradska lokacija</td>\n",
       "      <td>Raj</td>\n",
       "    </tr>\n",
       "    <tr>\n",
       "      <th>2</th>\n",
       "      <td>37</td>\n",
       "      <td>Sokobanja</td>\n",
       "      <td>1.0</td>\n",
       "      <td>Gradska lokacija , Banjica , Profesora Dragol...</td>\n",
       "      <td>60605</td>\n",
       "      <td>2.0</td>\n",
       "      <td>halooglasi</td>\n",
       "      <td>1650</td>\n",
       "      <td>Direktna prodaja stana u Sokobanji</td>\n",
       "      <td>Gradska lokacija</td>\n",
       "      <td>Banjica</td>\n",
       "    </tr>\n",
       "    <tr>\n",
       "      <th>3</th>\n",
       "      <td>34</td>\n",
       "      <td>Sokobanja</td>\n",
       "      <td>3.0</td>\n",
       "      <td>Gradska lokacija , Banjica , Profesora Dragol...</td>\n",
       "      <td>59488</td>\n",
       "      <td>1.5</td>\n",
       "      <td>halooglasi</td>\n",
       "      <td>1760</td>\n",
       "      <td>Direktna prodaja stana Sokobanja</td>\n",
       "      <td>Gradska lokacija</td>\n",
       "      <td>Banjica</td>\n",
       "    </tr>\n",
       "    <tr>\n",
       "      <th>4</th>\n",
       "      <td>55</td>\n",
       "      <td>Beograd</td>\n",
       "      <td>2.0</td>\n",
       "      <td>Opština Zemun , Altina , Ugrinovački put 8. deo</td>\n",
       "      <td>104500</td>\n",
       "      <td>2.0</td>\n",
       "      <td>halooglasi</td>\n",
       "      <td>1900</td>\n",
       "      <td>Zemun, Altina, 2.0</td>\n",
       "      <td>Zemun</td>\n",
       "      <td>Altina</td>\n",
       "    </tr>\n",
       "  </tbody>\n",
       "</table>\n",
       "</div>"
      ],
      "text/plain": [
       "   area            city  floor  \\\n",
       "0    76         Beograd    3.0   \n",
       "1    41  Vrnjačka Banja    2.0   \n",
       "2    37       Sokobanja    1.0   \n",
       "3    34       Sokobanja    3.0   \n",
       "4    55         Beograd    2.0   \n",
       "\n",
       "                                            location   price  rooms  \\\n",
       "0   Opština Vračar , Hram svetog Save , Svetog Save   290000    2.0   \n",
       "1            Gradska lokacija , Raj , Kosovska br.1    82000    2.0   \n",
       "2   Gradska lokacija , Banjica , Profesora Dragol...   60605    2.0   \n",
       "3   Gradska lokacija , Banjica , Profesora Dragol...   59488    1.5   \n",
       "4   Opština Zemun , Altina , Ugrinovački put 8. deo   104500    2.0   \n",
       "\n",
       "       source  square_price                                  title  \\\n",
       "0  halooglasi          3816  Plato Hrama Svetog Save, Vračar, 76m2   \n",
       "1  halooglasi          2000                 Lux stan Akva Park Raj   \n",
       "2  halooglasi          1650     Direktna prodaja stana u Sokobanji   \n",
       "3  halooglasi          1760       Direktna prodaja stana Sokobanja   \n",
       "4  halooglasi          1900                     Zemun, Altina, 2.0   \n",
       "\n",
       "       municipality           borough  \n",
       "0            Vračar  Hram svetog Save  \n",
       "1  Gradska lokacija               Raj  \n",
       "2  Gradska lokacija           Banjica  \n",
       "3  Gradska lokacija           Banjica  \n",
       "4             Zemun            Altina  "
      ]
     },
     "execution_count": 16,
     "metadata": {},
     "output_type": "execute_result"
    }
   ],
   "source": [
    "df = pd.read_csv('..\\\\data\\\\cleaned\\\\data.csv')\n",
    "df.head()\n"
   ]
  },
  {
   "cell_type": "code",
   "execution_count": null,
   "metadata": {},
   "outputs": [
    {
     "data": {
      "text/html": [
       "<div>\n",
       "<style scoped>\n",
       "    .dataframe tbody tr th:only-of-type {\n",
       "        vertical-align: middle;\n",
       "    }\n",
       "\n",
       "    .dataframe tbody tr th {\n",
       "        vertical-align: top;\n",
       "    }\n",
       "\n",
       "    .dataframe thead th {\n",
       "        text-align: right;\n",
       "    }\n",
       "</style>\n",
       "<table border=\"1\" class=\"dataframe\">\n",
       "  <thead>\n",
       "    <tr style=\"text-align: right;\">\n",
       "      <th></th>\n",
       "      <th>area</th>\n",
       "      <th>city</th>\n",
       "      <th>municipality</th>\n",
       "      <th>borough</th>\n",
       "      <th>rooms</th>\n",
       "    </tr>\n",
       "  </thead>\n",
       "  <tbody>\n",
       "    <tr>\n",
       "      <th>0</th>\n",
       "      <td>76</td>\n",
       "      <td>Beograd</td>\n",
       "      <td>Vračar</td>\n",
       "      <td>Hram svetog Save</td>\n",
       "      <td>2.0</td>\n",
       "    </tr>\n",
       "    <tr>\n",
       "      <th>1</th>\n",
       "      <td>41</td>\n",
       "      <td>Vrnjačka Banja</td>\n",
       "      <td>Gradska lokacija</td>\n",
       "      <td>Raj</td>\n",
       "      <td>2.0</td>\n",
       "    </tr>\n",
       "    <tr>\n",
       "      <th>2</th>\n",
       "      <td>37</td>\n",
       "      <td>Sokobanja</td>\n",
       "      <td>Gradska lokacija</td>\n",
       "      <td>Banjica</td>\n",
       "      <td>2.0</td>\n",
       "    </tr>\n",
       "    <tr>\n",
       "      <th>3</th>\n",
       "      <td>34</td>\n",
       "      <td>Sokobanja</td>\n",
       "      <td>Gradska lokacija</td>\n",
       "      <td>Banjica</td>\n",
       "      <td>1.5</td>\n",
       "    </tr>\n",
       "    <tr>\n",
       "      <th>4</th>\n",
       "      <td>55</td>\n",
       "      <td>Beograd</td>\n",
       "      <td>Zemun</td>\n",
       "      <td>Altina</td>\n",
       "      <td>2.0</td>\n",
       "    </tr>\n",
       "  </tbody>\n",
       "</table>\n",
       "</div>"
      ],
      "text/plain": [
       "   area            city      municipality           borough  rooms\n",
       "0    76         Beograd            Vračar  Hram svetog Save    2.0\n",
       "1    41  Vrnjačka Banja  Gradska lokacija               Raj    2.0\n",
       "2    37       Sokobanja  Gradska lokacija           Banjica    2.0\n",
       "3    34       Sokobanja  Gradska lokacija           Banjica    1.5\n",
       "4    55         Beograd             Zemun            Altina    2.0"
      ]
     },
     "execution_count": 17,
     "metadata": {},
     "output_type": "execute_result"
    }
   ],
   "source": [
    "X = df[[\"area\", \"city\", \"municipality\", \"borough\", \"rooms\"]]\n",
    "y = df[\"price\"]\n",
    "X.head()"
   ]
  },
  {
   "cell_type": "code",
   "execution_count": null,
   "metadata": {},
   "outputs": [
    {
     "name": "stdout",
     "output_type": "stream",
     "text": [
      "(11704, 11)\n",
      "<class 'pandas.core.frame.DataFrame'>\n",
      "RangeIndex: 11704 entries, 0 to 11703\n",
      "Data columns (total 11 columns):\n",
      " #   Column        Non-Null Count  Dtype  \n",
      "---  ------        --------------  -----  \n",
      " 0   area          11704 non-null  int64  \n",
      " 1   city          11704 non-null  object \n",
      " 2   floor         11704 non-null  float64\n",
      " 3   location      11704 non-null  object \n",
      " 4   price         11704 non-null  int64  \n",
      " 5   rooms         11704 non-null  float64\n",
      " 6   source        11704 non-null  object \n",
      " 7   square_price  11704 non-null  int64  \n",
      " 8   title         11704 non-null  object \n",
      " 9   municipality  11704 non-null  object \n",
      " 10  borough       11265 non-null  object \n",
      "dtypes: float64(2), int64(3), object(6)\n",
      "memory usage: 1005.9+ KB\n",
      "None\n",
      "area              0\n",
      "city              0\n",
      "floor             0\n",
      "location          0\n",
      "price             0\n",
      "rooms             0\n",
      "source            0\n",
      "square_price      0\n",
      "title             0\n",
      "municipality      0\n",
      "borough         439\n",
      "dtype: int64\n"
     ]
    }
   ],
   "source": [
    "print(df.shape)\n",
    "print(df.info())\n",
    "print(df.isnull().sum())"
   ]
  },
  {
   "cell_type": "code",
   "execution_count": null,
   "metadata": {},
   "outputs": [
    {
     "name": "stdout",
     "output_type": "stream",
     "text": [
      "city: unique=13, sample values: {'Beograd': 5618, 'Novi Sad': 3141, 'Niš': 844, 'OTHER': 444, 'Zlatibor': 314, 'Vrnjačka Banja': 313, 'Kragujevac': 243, 'Kopaonik': 192}\n",
      "municipality: unique=21, sample values: {'Novi Sad': 2473, 'OTHER': 1370, 'Gradska lokacija': 1111, 'Novi Beograd': 691, 'Voždovac': 686, 'Zvezdara': 635, 'Palilula': 586, 'Zemun': 510}\n",
      "borough: unique=50, sample values: {'OTHER': 4900, 'Centar': 1182, 'MISSING': 439, 'Gradske lokacije': 396, 'Telep': 351, 'Petrovaradin': 220, 'Novo Naselje': 193, 'Mirijevo': 191}\n"
     ]
    }
   ],
   "source": [
    "min_count = 50 \n",
    "X = df[[\"area\", \"rooms\", \"floor\", \"city\", \"municipality\", \"borough\"]].copy()\n",
    "\n",
    "X[\"borough\"] = X[\"borough\"].fillna(\"MISSING\")\n",
    "\n",
    "cat_cols = [\"city\", \"municipality\", \"borough\"]\n",
    "for c in cat_cols:\n",
    "    counts = X[c].value_counts()\n",
    "    to_replace = counts[counts < min_count].index\n",
    "    X[c] = X[c].replace(to_replace, \"OTHER\")\n",
    "\n",
    "for c in cat_cols:\n",
    "    print(f\"{c}: unique={X[c].nunique()}, sample values: {X[c].value_counts().head(8).to_dict()}\")\n"
   ]
  },
  {
   "cell_type": "code",
   "execution_count": null,
   "metadata": {},
   "outputs": [
    {
     "name": "stdout",
     "output_type": "stream",
     "text": [
      "X_train: (9363, 6) X_test: (2341, 6)\n",
      "y_train: (9363,) y_test: (2341,)\n"
     ]
    }
   ],
   "source": [
    "\n",
    "y = df[\"price\"].copy()\n",
    "X_train, X_test, y_train, y_test = train_test_split(\n",
    "    X, y, test_size=0.20, random_state=42\n",
    ")\n",
    "\n",
    "print(\"X_train:\", X_train.shape, \"X_test:\", X_test.shape)\n",
    "print(\"y_train:\", y_train.shape, \"y_test:\", y_test.shape)\n"
   ]
  },
  {
   "cell_type": "code",
   "execution_count": null,
   "metadata": {},
   "outputs": [
    {
     "name": "stdout",
     "output_type": "stream",
     "text": [
      "Prepared shapes -> X_train: (9363, 87) X_test: (2341, 87)\n"
     ]
    }
   ],
   "source": [
    "\n",
    "\n",
    "categorical_cols = [\"city\",\"municipality\",\"borough\"]\n",
    "numeric_cols = [\"area\",\"rooms\",\"floor\"]\n",
    "\n",
    "X_train[numeric_cols] = X_train[numeric_cols].astype(float)\n",
    "X_test[numeric_cols] = X_test[numeric_cols].astype(float)\n",
    "\n",
    "encoder = OneHotEncoder(sparse_output=False, handle_unknown=\"ignore\")\n",
    "\n",
    "X_train_cat = encoder.fit_transform(X_train[categorical_cols])\n",
    "X_test_cat = encoder.transform(X_test[categorical_cols])\n",
    "\n",
    "encoded_cols = encoder.get_feature_names_out(categorical_cols)\n",
    "\n",
    "X_train_cat_df = pd.DataFrame(X_train_cat, columns=encoded_cols, index=X_train.index)\n",
    "X_test_cat_df  = pd.DataFrame(X_test_cat,  columns=encoded_cols, index=X_test.index)\n",
    "\n",
    "X_train_prepared = pd.concat([X_train[numeric_cols], X_train_cat_df], axis=1).reset_index(drop=True)\n",
    "X_test_prepared  = pd.concat([X_test[numeric_cols],  X_test_cat_df],  axis=1).reset_index(drop=True)\n",
    "\n",
    "y_train = y_train.reset_index(drop=True)\n",
    "y_test  = y_test.reset_index(drop=True)\n",
    "\n",
    "print(\"Prepared shapes -> X_train:\", X_train_prepared.shape, \"X_test:\", X_test_prepared.shape)\n"
   ]
  },
  {
   "cell_type": "code",
   "execution_count": null,
   "metadata": {},
   "outputs": [
    {
     "name": "stdout",
     "output_type": "stream",
     "text": [
      "Trained RandomForest in 0.5 seconds\n"
     ]
    }
   ],
   "source": [
    "rf = RandomForestRegressor(n_estimators=100, random_state=42, n_jobs=-1)\n",
    "t0 = time.time()\n",
    "rf.fit(X_train_prepared, y_train)\n",
    "t1 = time.time()\n",
    "print(f\"Trained RandomForest in {t1 - t0:.1f} seconds\")"
   ]
  },
  {
   "cell_type": "code",
   "execution_count": null,
   "metadata": {},
   "outputs": [
    {
     "name": "stdout",
     "output_type": "stream",
     "text": [
      "MAE: 28,146.45\n",
      "RMSE: 50,937.33\n",
      "R^2: 0.7819\n"
     ]
    }
   ],
   "source": [
    "y_pred = rf.predict(X_test_prepared)\n",
    "\n",
    "mae = mean_absolute_error(y_test, y_pred)\n",
    "rmse = root_mean_squared_error(y_test, y_pred)\n",
    "r2 = r2_score(y_test, y_pred)\n",
    "\n",
    "print(f\"MAE: {mae:,.2f}\")\n",
    "print(f\"RMSE: {rmse:,.2f}\")\n",
    "print(f\"R^2: {r2:.4f}\")"
   ]
  },
  {
   "cell_type": "code",
   "execution_count": null,
   "metadata": {},
   "outputs": [],
   "source": [
    "dump(model, '..\\\\models\\\\random_forest_model.joblib')\n",
    "\n",
    "with open('..\\\\models\\\\random_forest_model.pkl', 'wb') as file:\n",
    "    pickle.dump(model, file)"
   ]
  },
  {
   "cell_type": "code",
   "execution_count": null,
   "metadata": {},
   "outputs": [],
   "source": []
  }
 ],
 "metadata": {
  "kernelspec": {
   "display_name": "venv (3.12.0)",
   "language": "python",
   "name": "python3"
  },
  "language_info": {
   "codemirror_mode": {
    "name": "ipython",
    "version": 3
   },
   "file_extension": ".py",
   "mimetype": "text/x-python",
   "name": "python",
   "nbconvert_exporter": "python",
   "pygments_lexer": "ipython3",
   "version": "3.12.0"
  }
 },
 "nbformat": 4,
 "nbformat_minor": 2
}
